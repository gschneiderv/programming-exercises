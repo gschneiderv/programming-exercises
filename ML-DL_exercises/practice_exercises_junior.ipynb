{
 "cells": [
  {
   "cell_type": "code",
   "execution_count": 49,
   "id": "66c8b950",
   "metadata": {},
   "outputs": [],
   "source": [
    "import pandas as pd\n",
    "import numpy as np"
   ]
  },
  {
   "cell_type": "code",
   "execution_count": 7,
   "id": "b65f0380",
   "metadata": {},
   "outputs": [
    {
     "data": {
      "text/html": [
       "<div>\n",
       "<style scoped>\n",
       "    .dataframe tbody tr th:only-of-type {\n",
       "        vertical-align: middle;\n",
       "    }\n",
       "\n",
       "    .dataframe tbody tr th {\n",
       "        vertical-align: top;\n",
       "    }\n",
       "\n",
       "    .dataframe thead th {\n",
       "        text-align: right;\n",
       "    }\n",
       "</style>\n",
       "<table border=\"1\" class=\"dataframe\">\n",
       "  <thead>\n",
       "    <tr style=\"text-align: right;\">\n",
       "      <th></th>\n",
       "      <th>Name</th>\n",
       "      <th>Age</th>\n",
       "      <th>City</th>\n",
       "      <th>Salary</th>\n",
       "    </tr>\n",
       "  </thead>\n",
       "  <tbody>\n",
       "    <tr>\n",
       "      <th>0</th>\n",
       "      <td>Alice</td>\n",
       "      <td>25</td>\n",
       "      <td>New York</td>\n",
       "      <td>70000</td>\n",
       "    </tr>\n",
       "    <tr>\n",
       "      <th>1</th>\n",
       "      <td>Bob</td>\n",
       "      <td>30</td>\n",
       "      <td>Chicago</td>\n",
       "      <td>80000</td>\n",
       "    </tr>\n",
       "    <tr>\n",
       "      <th>2</th>\n",
       "      <td>Charlie</td>\n",
       "      <td>35</td>\n",
       "      <td>San Diego</td>\n",
       "      <td>90000</td>\n",
       "    </tr>\n",
       "    <tr>\n",
       "      <th>3</th>\n",
       "      <td>Diana</td>\n",
       "      <td>40</td>\n",
       "      <td>Chicago</td>\n",
       "      <td>85000</td>\n",
       "    </tr>\n",
       "    <tr>\n",
       "      <th>4</th>\n",
       "      <td>Ethan</td>\n",
       "      <td>28</td>\n",
       "      <td>New York</td>\n",
       "      <td>72000</td>\n",
       "    </tr>\n",
       "    <tr>\n",
       "      <th>5</th>\n",
       "      <td>Fiona</td>\n",
       "      <td>45</td>\n",
       "      <td>San Diego</td>\n",
       "      <td>88000</td>\n",
       "    </tr>\n",
       "  </tbody>\n",
       "</table>\n",
       "</div>"
      ],
      "text/plain": [
       "      Name  Age       City  Salary\n",
       "0    Alice   25   New York   70000\n",
       "1      Bob   30    Chicago   80000\n",
       "2  Charlie   35  San Diego   90000\n",
       "3    Diana   40    Chicago   85000\n",
       "4    Ethan   28   New York   72000\n",
       "5    Fiona   45  San Diego   88000"
      ]
     },
     "execution_count": 7,
     "metadata": {},
     "output_type": "execute_result"
    }
   ],
   "source": [
    "#Sample data\n",
    "data = {\n",
    "    'Name': ['Alice', 'Bob', 'Charlie', 'Diana', 'Ethan', 'Fiona'], \n",
    "    'Age': [25, 30, 35, 40, 28, 45],\n",
    "    'City': ['New York', 'Chicago', 'San Diego', 'Chicago', 'New York', 'San Diego'],\n",
    "    'Salary': [70000, 80000, 90000, 85000, 72000, 88000]\n",
    "\n",
    "}\n",
    "\n",
    "#Create Dataframe \n",
    "df = pd.DataFrame(data)\n",
    "\n",
    "#Display it\n",
    "df.head(10)"
   ]
  },
  {
   "cell_type": "markdown",
   "id": "ff138047",
   "metadata": {},
   "source": [
    " Exercise 1: Filter rows\n",
    "\n",
    "    Get all rows where the salary is greater than 75,000."
   ]
  },
  {
   "cell_type": "code",
   "execution_count": 13,
   "id": "3aaae5b6",
   "metadata": {},
   "outputs": [
    {
     "name": "stdout",
     "output_type": "stream",
     "text": [
      "      Name  Age       City  Salary\n",
      "1      Bob   30    Chicago   80000\n",
      "2  Charlie   35  San Diego   90000\n",
      "3    Diana   40    Chicago   85000\n",
      "5    Fiona   45  San Diego   88000\n"
     ]
    }
   ],
   "source": [
    "df_salary_filter = df[df['Salary'] > 75000]\n",
    "print(df_salary_filter)"
   ]
  },
  {
   "cell_type": "markdown",
   "id": "0b2723f3",
   "metadata": {},
   "source": [
    "Exercise 2: Group and aggregate\n",
    "\n",
    "    Find the average salary per city."
   ]
  },
  {
   "cell_type": "code",
   "execution_count": 20,
   "id": "02a2b0b2",
   "metadata": {},
   "outputs": [
    {
     "name": "stdout",
     "output_type": "stream",
     "text": [
      "City\n",
      "Chicago      82500.0\n",
      "New York     71000.0\n",
      "San Diego    89000.0\n",
      "Name: Salary, dtype: float64\n"
     ]
    }
   ],
   "source": [
    "avg_salary_city = df.groupby('City')['Salary'].mean()\n",
    "print(avg_salary_city)"
   ]
  },
  {
   "cell_type": "markdown",
   "id": "8b86b420",
   "metadata": {},
   "source": [
    "Exercise 3: Add a column\n",
    "\n",
    "    Add a new column senior which is True if age ≥ 35, else False."
   ]
  },
  {
   "cell_type": "code",
   "execution_count": 37,
   "id": "024fef7c",
   "metadata": {},
   "outputs": [
    {
     "name": "stdout",
     "output_type": "stream",
     "text": [
      "      Name  Age       City  Salary  Senior\n",
      "0    Alice   25   New York   70000   False\n",
      "1      Bob   30    Chicago   80000   False\n",
      "2  Charlie   35  San Diego   90000    True\n",
      "3    Diana   40    Chicago   85000    True\n",
      "4    Ethan   28   New York   72000   False\n",
      "5    Fiona   45  San Diego   88000    True\n"
     ]
    }
   ],
   "source": [
    "df['Senior'] =df['Age'] >= 35\n",
    "\n",
    "print(df)\n"
   ]
  },
  {
   "cell_type": "markdown",
   "id": "acb70ed1",
   "metadata": {},
   "source": [
    "Exercise 4: Sort values\n",
    "\n",
    "    Sort the DataFrame by salary descending."
   ]
  },
  {
   "cell_type": "code",
   "execution_count": 40,
   "id": "7c518536",
   "metadata": {},
   "outputs": [
    {
     "data": {
      "text/html": [
       "<div>\n",
       "<style scoped>\n",
       "    .dataframe tbody tr th:only-of-type {\n",
       "        vertical-align: middle;\n",
       "    }\n",
       "\n",
       "    .dataframe tbody tr th {\n",
       "        vertical-align: top;\n",
       "    }\n",
       "\n",
       "    .dataframe thead th {\n",
       "        text-align: right;\n",
       "    }\n",
       "</style>\n",
       "<table border=\"1\" class=\"dataframe\">\n",
       "  <thead>\n",
       "    <tr style=\"text-align: right;\">\n",
       "      <th></th>\n",
       "      <th>Name</th>\n",
       "      <th>Age</th>\n",
       "      <th>City</th>\n",
       "      <th>Salary</th>\n",
       "      <th>Senior</th>\n",
       "    </tr>\n",
       "  </thead>\n",
       "  <tbody>\n",
       "    <tr>\n",
       "      <th>2</th>\n",
       "      <td>Charlie</td>\n",
       "      <td>35</td>\n",
       "      <td>San Diego</td>\n",
       "      <td>90000</td>\n",
       "      <td>True</td>\n",
       "    </tr>\n",
       "    <tr>\n",
       "      <th>5</th>\n",
       "      <td>Fiona</td>\n",
       "      <td>45</td>\n",
       "      <td>San Diego</td>\n",
       "      <td>88000</td>\n",
       "      <td>True</td>\n",
       "    </tr>\n",
       "    <tr>\n",
       "      <th>3</th>\n",
       "      <td>Diana</td>\n",
       "      <td>40</td>\n",
       "      <td>Chicago</td>\n",
       "      <td>85000</td>\n",
       "      <td>True</td>\n",
       "    </tr>\n",
       "    <tr>\n",
       "      <th>1</th>\n",
       "      <td>Bob</td>\n",
       "      <td>30</td>\n",
       "      <td>Chicago</td>\n",
       "      <td>80000</td>\n",
       "      <td>False</td>\n",
       "    </tr>\n",
       "    <tr>\n",
       "      <th>4</th>\n",
       "      <td>Ethan</td>\n",
       "      <td>28</td>\n",
       "      <td>New York</td>\n",
       "      <td>72000</td>\n",
       "      <td>False</td>\n",
       "    </tr>\n",
       "    <tr>\n",
       "      <th>0</th>\n",
       "      <td>Alice</td>\n",
       "      <td>25</td>\n",
       "      <td>New York</td>\n",
       "      <td>70000</td>\n",
       "      <td>False</td>\n",
       "    </tr>\n",
       "  </tbody>\n",
       "</table>\n",
       "</div>"
      ],
      "text/plain": [
       "      Name  Age       City  Salary  Senior\n",
       "2  Charlie   35  San Diego   90000    True\n",
       "5    Fiona   45  San Diego   88000    True\n",
       "3    Diana   40    Chicago   85000    True\n",
       "1      Bob   30    Chicago   80000   False\n",
       "4    Ethan   28   New York   72000   False\n",
       "0    Alice   25   New York   70000   False"
      ]
     },
     "execution_count": 40,
     "metadata": {},
     "output_type": "execute_result"
    }
   ],
   "source": [
    "df.sort_values('Salary', ascending=False)"
   ]
  },
  {
   "cell_type": "markdown",
   "id": "fda04ed4",
   "metadata": {},
   "source": [
    " Exercise 5: Count distinct values\n",
    "\n",
    "    How many unique cities are there?"
   ]
  },
  {
   "cell_type": "code",
   "execution_count": 45,
   "id": "feb4d7e5",
   "metadata": {},
   "outputs": [
    {
     "name": "stdout",
     "output_type": "stream",
     "text": [
      "There are 3 unique cities :)\n"
     ]
    }
   ],
   "source": [
    "unique_cities= df['City'].nunique()\n",
    "\n",
    "print(f'There are {unique_cities} unique cities :)')"
   ]
  },
  {
   "cell_type": "markdown",
   "id": "ca0fed09",
   "metadata": {},
   "source": [
    "Expanding the df to make mor exercises:\n",
    "\n",
    "Add new column: 'Hire_Date'\n",
    "Add some NaN values for missing salary example\n"
   ]
  },
  {
   "cell_type": "code",
   "execution_count": 50,
   "id": "6883106e",
   "metadata": {},
   "outputs": [
    {
     "data": {
      "text/html": [
       "<div>\n",
       "<style scoped>\n",
       "    .dataframe tbody tr th:only-of-type {\n",
       "        vertical-align: middle;\n",
       "    }\n",
       "\n",
       "    .dataframe tbody tr th {\n",
       "        vertical-align: top;\n",
       "    }\n",
       "\n",
       "    .dataframe thead th {\n",
       "        text-align: right;\n",
       "    }\n",
       "</style>\n",
       "<table border=\"1\" class=\"dataframe\">\n",
       "  <thead>\n",
       "    <tr style=\"text-align: right;\">\n",
       "      <th></th>\n",
       "      <th>Name</th>\n",
       "      <th>Age</th>\n",
       "      <th>City</th>\n",
       "      <th>Salary</th>\n",
       "      <th>Senior</th>\n",
       "      <th>Hire_Date</th>\n",
       "    </tr>\n",
       "  </thead>\n",
       "  <tbody>\n",
       "    <tr>\n",
       "      <th>0</th>\n",
       "      <td>Alice</td>\n",
       "      <td>25</td>\n",
       "      <td>New York</td>\n",
       "      <td>70000.0</td>\n",
       "      <td>False</td>\n",
       "      <td>2020-05-15</td>\n",
       "    </tr>\n",
       "    <tr>\n",
       "      <th>1</th>\n",
       "      <td>Bob</td>\n",
       "      <td>30</td>\n",
       "      <td>Chicago</td>\n",
       "      <td>NaN</td>\n",
       "      <td>False</td>\n",
       "      <td>2019-07-01</td>\n",
       "    </tr>\n",
       "    <tr>\n",
       "      <th>2</th>\n",
       "      <td>Charlie</td>\n",
       "      <td>35</td>\n",
       "      <td>San Diego</td>\n",
       "      <td>90000.0</td>\n",
       "      <td>True</td>\n",
       "      <td>2021-01-10</td>\n",
       "    </tr>\n",
       "    <tr>\n",
       "      <th>3</th>\n",
       "      <td>Diana</td>\n",
       "      <td>40</td>\n",
       "      <td>Chicago</td>\n",
       "      <td>85000.0</td>\n",
       "      <td>True</td>\n",
       "      <td>2018-03-20</td>\n",
       "    </tr>\n",
       "    <tr>\n",
       "      <th>4</th>\n",
       "      <td>Ethan</td>\n",
       "      <td>28</td>\n",
       "      <td>New York</td>\n",
       "      <td>72000.0</td>\n",
       "      <td>False</td>\n",
       "      <td>2022-09-01</td>\n",
       "    </tr>\n",
       "    <tr>\n",
       "      <th>5</th>\n",
       "      <td>Fiona</td>\n",
       "      <td>45</td>\n",
       "      <td>San Diego</td>\n",
       "      <td>88000.0</td>\n",
       "      <td>True</td>\n",
       "      <td>2017-12-11</td>\n",
       "    </tr>\n",
       "  </tbody>\n",
       "</table>\n",
       "</div>"
      ],
      "text/plain": [
       "      Name  Age       City   Salary  Senior  Hire_Date\n",
       "0    Alice   25   New York  70000.0   False 2020-05-15\n",
       "1      Bob   30    Chicago      NaN   False 2019-07-01\n",
       "2  Charlie   35  San Diego  90000.0    True 2021-01-10\n",
       "3    Diana   40    Chicago  85000.0    True 2018-03-20\n",
       "4    Ethan   28   New York  72000.0   False 2022-09-01\n",
       "5    Fiona   45  San Diego  88000.0    True 2017-12-11"
      ]
     },
     "execution_count": 50,
     "metadata": {},
     "output_type": "execute_result"
    }
   ],
   "source": [
    "\n",
    "df['Hire_Date']= ['2020-05-15', '2019-07-01', '2021-01-10', '2018-03-20', '2022-09-01', '2017-12-11']\n",
    "\n",
    "# Convert 'Hire_Date' to datetime\n",
    "df['Hire_Date'] = pd.to_datetime(df['Hire_Date'])\n",
    "\n",
    "# Add some NaN values for missing salary example\n",
    "df.loc[1, 'Salary'] = np.nan  # Bob's salary is missing\n",
    "\n",
    "df"
   ]
  },
  {
   "cell_type": "code",
   "execution_count": null,
   "id": "d7beb32f",
   "metadata": {},
   "outputs": [],
   "source": [
    "# Convert 'Hire_Date' to datetime\n",
    "df['Hire_Date'] = pd.to_datetime(df['Hire_Date'])\n",
    "\n",
    "# Add some NaN values for missing salary example\n",
    "df.loc[1, 'Salary'] = np.nan  # Bob's salary is missing"
   ]
  }
 ],
 "metadata": {
  "kernelspec": {
   "display_name": "KCML",
   "language": "python",
   "name": "python3"
  },
  "language_info": {
   "codemirror_mode": {
    "name": "ipython",
    "version": 3
   },
   "file_extension": ".py",
   "mimetype": "text/x-python",
   "name": "python",
   "nbconvert_exporter": "python",
   "pygments_lexer": "ipython3",
   "version": "3.12.2"
  }
 },
 "nbformat": 4,
 "nbformat_minor": 5
}
